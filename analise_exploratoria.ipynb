{
 "cells": [
  {
   "cell_type": "markdown",
   "id": "dad25378",
   "metadata": {},
   "source": [
    "# Análise Exploratória dos Dados"
   ]
  },
  {
   "cell_type": "markdown",
   "id": "8780803d",
   "metadata": {},
   "source": [
    "### Importação das Bibliotecas"
   ]
  },
  {
   "cell_type": "code",
   "execution_count": 1,
   "id": "dc43b723",
   "metadata": {},
   "outputs": [],
   "source": [
    "import pandas as pd\n",
    "import numpy as np\n",
    "import matplotlib.pyplot as plt\n",
    "import seaborn as sns\n",
    "from scipy import stats\n",
    "from statsmodels.tsa.seasonal import seasonal_decompose\n",
    "from pandas.plotting import autocorrelation_plot\n",
    "import mplfinance as mpf\n",
    "from app.settings import Settings"
   ]
  },
  {
   "cell_type": "markdown",
   "id": "c872a696",
   "metadata": {},
   "source": [
    "### Importação da Base de Dados"
   ]
  },
  {
   "cell_type": "code",
   "execution_count": 2,
   "id": "dcb52f92",
   "metadata": {},
   "outputs": [],
   "source": [
    "settings = Settings()\n",
    "data = pd.read_csv(settings.DOWNLOAD_PATH+'/'+settings.NEW_NASDAQ_FILE)"
   ]
  },
  {
   "cell_type": "markdown",
   "id": "5ca2fe20",
   "metadata": {},
   "source": [
    "### Tratamento das Variáveis"
   ]
  },
  {
   "cell_type": "code",
   "execution_count": 3,
   "id": "26178139",
   "metadata": {},
   "outputs": [
    {
     "name": "stdout",
     "output_type": "stream",
     "text": [
      "Close/Last    float64\n",
      "Open          float64\n",
      "High          float64\n",
      "Low           float64\n",
      "dtype: object\n",
      "        Date  Close/Last    Volume    Open      High     Low\n",
      "0 2024-11-12      208.91  38942920  208.37  209.5400  206.01\n",
      "1 2024-11-11      206.84  35456010  208.50  209.6500  205.59\n",
      "2 2024-11-08      208.18  36075850  209.72  209.9633  207.44\n",
      "3 2024-11-07      210.05  52878380  207.44  212.2500  207.19\n",
      "4 2024-11-06      207.09  72292170  200.01  207.5500  199.14\n"
     ]
    },
    {
     "name": "stderr",
     "output_type": "stream",
     "text": [
      "<>:5: SyntaxWarning: invalid escape sequence '\\$'\n",
      "<>:5: SyntaxWarning: invalid escape sequence '\\$'\n",
      "C:\\Users\\biel_\\AppData\\Local\\Temp\\ipykernel_11388\\1998124349.py:5: SyntaxWarning: invalid escape sequence '\\$'\n",
      "  data[col] = data[col].replace('[\\$,]', '', regex=True).str.replace(',', '.').astype(float)\n"
     ]
    }
   ],
   "source": [
    "# Remover o símbolo '$' e substituir ',' por '.' nas colunas de preços, convertendo-as para float\n",
    "columns_to_convert = ['Close/Last', 'Open', 'High', 'Low']\n",
    "\n",
    "for col in columns_to_convert:\n",
    "    data[col] = data[col].replace('[\\$,]', '', regex=True).str.replace(',', '.').astype(float)\n",
    "\n",
    "# Conversão da coluna 'Date' para datetime\n",
    "data['Date'] = pd.to_datetime(data['Date'], errors='coerce')\n",
    "\n",
    "# Verificar se a conversão foi bem-sucedida\n",
    "print(data[columns_to_convert].dtypes)\n",
    "print(data.head())"
   ]
  },
  {
   "cell_type": "markdown",
   "id": "9993ae80",
   "metadata": {},
   "source": [
    "### Análise das Informações"
   ]
  },
  {
   "cell_type": "code",
   "execution_count": null,
   "id": "b60adfef",
   "metadata": {},
   "outputs": [],
   "source": [
    "# Exibir informações iniciais sobre os dados\n",
    "print(data.info())"
   ]
  },
  {
   "cell_type": "code",
   "execution_count": 140,
   "id": "98b5e7c4",
   "metadata": {},
   "outputs": [],
   "source": [
    "# Ordenar por data para análises temporais\n",
    "data = data.sort_values(by='Date')"
   ]
  },
  {
   "cell_type": "code",
   "execution_count": null,
   "id": "172442c6",
   "metadata": {},
   "outputs": [],
   "source": [
    "# Exibir informações iniciais sobre os dados\n",
    "print(data.head())"
   ]
  },
  {
   "cell_type": "code",
   "execution_count": null,
   "id": "8370ee90",
   "metadata": {},
   "outputs": [],
   "source": [
    "# Estatísticas Descritivas Básicas\n",
    "print(\"\\nEstatísticas Descritivas Básicas:\")\n",
    "print(data.describe())"
   ]
  },
  {
   "cell_type": "markdown",
   "id": "c110f38a",
   "metadata": {},
   "source": [
    "### Análise Estátisca da Base"
   ]
  },
  {
   "cell_type": "code",
   "execution_count": null,
   "id": "3c851da5",
   "metadata": {},
   "outputs": [],
   "source": [
    "# Médias, Medianas e Modas\n",
    "print(\"\\nMédia dos valores de fechamento:\")\n",
    "print(data['Close/Last'].mean())"
   ]
  },
  {
   "cell_type": "code",
   "execution_count": null,
   "id": "4d595c2f",
   "metadata": {},
   "outputs": [],
   "source": [
    "print(\"\\nMediana dos valores de fechamento:\")\n",
    "print(data['Close/Last'].median())"
   ]
  },
  {
   "cell_type": "code",
   "execution_count": null,
   "id": "c9b268cd",
   "metadata": {},
   "outputs": [],
   "source": [
    "print(\"\\nModa dos valores de fechamento:\")\n",
    "print(data['Close/Last'].mode()[0])"
   ]
  },
  {
   "cell_type": "code",
   "execution_count": null,
   "id": "94da268d",
   "metadata": {},
   "outputs": [],
   "source": [
    "# Verificar se os dados estão balanceados\n",
    "print(\"\\nValores ausentes em cada coluna:\")\n",
    "print(data.isnull().sum())"
   ]
  },
  {
   "cell_type": "code",
   "execution_count": null,
   "id": "7b1788c2",
   "metadata": {},
   "outputs": [],
   "source": [
    "# Estatísticas de esparcividade\n",
    "sparsity = (data.isnull().sum().sum() / data.size) * 100\n",
    "print(f\"\\nPercentual de esparcividade: {sparsity:.2f}%\")"
   ]
  },
  {
   "cell_type": "code",
   "execution_count": null,
   "id": "179d700a",
   "metadata": {},
   "outputs": [],
   "source": [
    "#Analisar volumes e variações - disperção intrad\n",
    "candle = data.loc[:,['Date','Close/Last', 'Open', 'High', 'Low','Volume']].rename(columns={'Close/Last':'Close'})\n",
    "candle = candle.set_index('Date')\n",
    "\n",
    "# Plotando o gráfico de candlesticks\n",
    "mpf.plot(candle.loc[candle.index>'2024-08-31',:], type='candle', style='charles', title='Gráfico de Candlesticks', volume=True)"
   ]
  },
  {
   "cell_type": "code",
   "execution_count": null,
   "id": "413cf3f4",
   "metadata": {},
   "outputs": [],
   "source": [
    "# Visualização da Distribuição dos Dados sobre valores de fechamento\n",
    "plt.figure(figsize=(12, 6))\n",
    "sns.histplot(data['Close/Last'], bins=50, kde=True)\n",
    "plt.title('Distribuição dos Valores de Fechamento')\n",
    "plt.xlabel('Fechamento')\n",
    "plt.ylabel('Frequência')\n",
    "plt.show()"
   ]
  },
  {
   "cell_type": "code",
   "execution_count": null,
   "id": "8d2919dc",
   "metadata": {},
   "outputs": [],
   "source": [
    "# Análise de Correlação - Analise que as variáveis estão extremamente correlacionadas e com vazamento de dados. \n",
    "correlation_matrix = data[['Close/Last', 'Open', 'High', 'Low', 'Volume']].corr()\n",
    "plt.figure(figsize=(10, 8))\n",
    "sns.heatmap(correlation_matrix, annot=True, cmap='coolwarm', vmin=-1, vmax=1)\n",
    "plt.title('Matriz de Correlação')\n",
    "plt.show()"
   ]
  },
  {
   "cell_type": "code",
   "execution_count": null,
   "id": "51181175",
   "metadata": {},
   "outputs": [],
   "source": [
    "# Média móvel de 30 dias do fechamento\n",
    "data['Close_Moving_Avg_30'] = data['Close/Last'].rolling(window=30).mean()\n",
    "\n",
    "plt.figure(figsize=(12, 6))\n",
    "plt.plot(data['Date'], data['Close/Last'], label='Fechamento')\n",
    "plt.plot(data['Date'], data['Close_Moving_Avg_30'], label='Média Móvel 30 dias', color='orange')\n",
    "plt.title('Valor de Fechamento com Média Móvel de 30 Dias')\n",
    "plt.xlabel('Data')\n",
    "plt.ylabel('Valor de Fechamento')\n",
    "plt.legend()\n",
    "plt.show()"
   ]
  },
  {
   "cell_type": "markdown",
   "id": "0cdd0275",
   "metadata": {},
   "source": [
    "### Análise de Retornos Diários"
   ]
  },
  {
   "cell_type": "code",
   "execution_count": null,
   "id": "1c4781b5",
   "metadata": {},
   "outputs": [],
   "source": [
    "#Cálculo do retorno diário percentual da ação (métrica importante para avaliar a volatilidade do ativo)\n",
    "\n",
    "data['Daily_Return'] = data['Close/Last'].pct_change() * 100\n",
    "plt.figure(figsize=(12, 6))\n",
    "sns.histplot(data['Daily_Return'].dropna(), bins=50, kde=True)\n",
    "plt.title('Distribuição dos Retornos Diários (%)')\n",
    "plt.xlabel('Retorno Diário (%)')\n",
    "plt.ylabel('Frequência')\n",
    "plt.show()"
   ]
  },
  {
   "cell_type": "code",
   "execution_count": null,
   "id": "1bf339d0",
   "metadata": {},
   "outputs": [],
   "source": [
    "# Análise de sazonalidade por mês e ano\n",
    "data['Year'] = data['Date'].dt.year\n",
    "data['Month'] = data['Date'].dt.month\n",
    "\n",
    "plt.figure(figsize=(10, 6))\n",
    "sns.boxplot(x='Month', y='Daily_Return', data=data)\n",
    "plt.title('Distribuição Mensal dos Valores de Retorno')\n",
    "plt.xlabel('Mês')\n",
    "plt.ylabel('Retorno')\n",
    "plt.show()\n",
    "\n",
    "plt.figure(figsize=(10, 6))\n",
    "sns.boxplot(x='Year', y='Daily_Return', data=data)\n",
    "plt.title('Distribuição Anual dos Valores de Retorno')\n",
    "plt.xlabel('Ano')\n",
    "plt.ylabel('Retorno')\n",
    "plt.show()\n",
    "\n",
    "#2022 É o único ano que apresenta uma variabilidade maior com um disperção maior do primeiro e terceiro quartis"
   ]
  },
  {
   "cell_type": "markdown",
   "id": "2bfd8b1b",
   "metadata": {},
   "source": [
    "### Análise de Volatilidade"
   ]
  },
  {
   "cell_type": "code",
   "execution_count": null,
   "id": "e394a087",
   "metadata": {},
   "outputs": [],
   "source": [
    "#Cálculo da volatilidade dos preços de fechamento em janelas móveis (ex: 30 dias) para verificar variações ao longo do tempo.\n",
    "#Quanto de volatilidade estou tendo? Desvio padrão do retorno (risco da ação)\n",
    "\n",
    "data['Volatilidade_30d'] = data['Daily_Return'].rolling(window=30).std()\n",
    "plt.figure(figsize=(12, 6))\n",
    "plt.plot(data['Date'], data['Volatilidade_30d'], color='red')\n",
    "plt.title('Volatilidade de 30 dias dos Retornos Diários')\n",
    "plt.xlabel('Data')\n",
    "plt.ylabel('Volatilidade (%)')\n",
    "plt.show()"
   ]
  },
  {
   "cell_type": "code",
   "execution_count": null,
   "id": "ab154fdc",
   "metadata": {},
   "outputs": [],
   "source": [
    "#Volume Médio por Mês\n",
    "#Verificação da média do volume de ações negociadas por mês, o que pode indicar períodos de maior interesse no ativo.\n",
    "\n",
    "monthly_volume = data.groupby(data['Date'].dt.to_period(\"M\"))['Volume'].mean()\n",
    "plt.figure(figsize=(12, 6))\n",
    "monthly_volume.plot(kind='bar', color='skyblue')\n",
    "plt.title('Volume Médio Mensal')\n",
    "plt.xlabel('Mês')\n",
    "plt.ylabel('Volume Médio')\n",
    "plt.xticks(rotation=45)\n",
    "plt.show()\n",
    "\n",
    "#A compra e venda parece bem estável, com apenas alguns picos. "
   ]
  },
  {
   "cell_type": "code",
   "execution_count": null,
   "id": "8eca1ead",
   "metadata": {},
   "outputs": [],
   "source": [
    "#Análise de Correlação Temporal com Lag (Atraso)\n",
    "#Análise da autocorrelação dos preços de fechamento para ver se há algum padrão temporal que se repete.\n",
    "\n",
    "plt.figure(figsize=(12, 6))\n",
    "autocorrelation_plot(data['Close/Last'].dropna())\n",
    "plt.title('Autocorrelação do Preço de Fechamento')\n",
    "plt.show()"
   ]
  },
  {
   "cell_type": "code",
   "execution_count": null,
   "id": "2f9a417e",
   "metadata": {},
   "outputs": [],
   "source": [
    "#Análise de Correlação Temporal com Lag (Atraso)\n",
    "#Analise a autocorrelação dos preços de fechamento para ver se há algum padrão temporal que se repete.\n",
    "\n",
    "plt.figure(figsize=(12, 6))\n",
    "autocorrelation_plot(data['Daily_Return'].dropna())\n",
    "plt.title('Autocorrelação do retorno diário')\n",
    "plt.show()\n",
    "\n",
    "#Variação sobre o retorno da ação % percentual de variação diária, não tem muita correlação com retorno. \n",
    "#Isso em finanças pode ser chamado de passeio aleatório que é quando o retorno da ação amanhã não pode ser explicado pelos retornos dos dias anteriores.  "
   ]
  },
  {
   "cell_type": "code",
   "execution_count": 158,
   "id": "52b70688",
   "metadata": {},
   "outputs": [],
   "source": [
    "data['forca_relativa'] = (data['Close/Last'] - data['Low'])/ (data['High'] - data['Low'])"
   ]
  },
  {
   "cell_type": "code",
   "execution_count": null,
   "id": "77cbd4ad",
   "metadata": {},
   "outputs": [],
   "source": [
    "# Análise de como o fechamento se compara com a maxima e minima do dia \n",
    "# 0 - Minima \n",
    "# 1 - Maxima\n",
    "\n",
    "plt.figure(figsize=(12, 6))\n",
    "sns.histplot(data['forca_relativa'].dropna(), bins=50, kde=False)\n",
    "plt.title('Distribuição dos força relativa ')\n",
    "plt.xlabel('forca_relativa')\n",
    "plt.ylabel('Frequência')\n",
    "plt.show()\n",
    "\n",
    "# Não há uma tendência clara do fechamento em relação a máximo e mínima "
   ]
  },
  {
   "cell_type": "code",
   "execution_count": null,
   "id": "a22963c8",
   "metadata": {},
   "outputs": [],
   "source": [
    "data['forca_relativa'].describe()"
   ]
  },
  {
   "cell_type": "markdown",
   "id": "eb812732",
   "metadata": {},
   "source": [
    "## Gerando a base com variáveis necessárias para Modelo"
   ]
  },
  {
   "cell_type": "code",
   "execution_count": null,
   "id": "d27945ea",
   "metadata": {},
   "outputs": [],
   "source": [
    "# Garantir que a coluna 'Date' está no formato datetime\n",
    "data['Date'] = pd.to_datetime(data['Date'], errors='coerce')\n",
    "\n",
    "# Remover linhas com datas inválidas\n",
    "data.dropna(subset=['Date'], inplace=True)\n",
    "\n",
    "# Tratamento de colunas financeiras: Remover '$' e converter para float\n",
    "for col in ['Close/Last', 'Open', 'High', 'Low']:\n",
    "    data[col] = data[col].replace({'\\$': ''}, regex=True).astype(float)\n",
    "\n",
    "# Converter 'Volume' para float, ignorando possíveis erros\n",
    "data['Volume'] = pd.to_numeric(data['Volume'], errors='coerce')\n",
    "\n",
    "# Remover valores nulos após o cálculo da variável alvo\n",
    "data.dropna(inplace=True)\n",
    "\n",
    "# Criar features adicionais\n",
    "data = data.sort_values(by = 'Date', ascending = True)\n",
    "data['SMA_20'] = data['Close/Last'].rolling(window=20).mean()\n",
    "data['SMA_50'] = data['Close/Last'].rolling(window=50).mean()\n",
    "data['Volatility_30'] = data['Close/Last'].rolling(window=30).std()\n",
    "data['Avg_Volume_30'] = data['Volume'].rolling(window=30).mean()\n",
    "data = data.sort_values(by = 'Date', ascending= False)\n",
    "\n",
    "# Remover valores nulos gerados pelas janelas móveis\n",
    "data.dropna(inplace=True)\n",
    "\n",
    "#Gerando a base para modelo\n",
    "data.to_csv('base_tratada.csv', index=False)"
   ]
  }
 ],
 "metadata": {
  "kernelspec": {
   "display_name": "Python 3",
   "language": "python",
   "name": "python3"
  },
  "language_info": {
   "codemirror_mode": {
    "name": "ipython",
    "version": 3
   },
   "file_extension": ".py",
   "mimetype": "text/x-python",
   "name": "python",
   "nbconvert_exporter": "python",
   "pygments_lexer": "ipython3",
   "version": "3.12.1"
  }
 },
 "nbformat": 4,
 "nbformat_minor": 5
}
